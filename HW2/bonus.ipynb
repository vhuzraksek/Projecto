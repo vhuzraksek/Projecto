{
  "nbformat": 4,
  "nbformat_minor": 0,
  "metadata": {
    "colab": {
      "name": "Untitled2.ipynb",
      "provenance": []
    },
    "kernelspec": {
      "name": "python3",
      "display_name": "Python 3"
    }
  },
  "cells": [
    {
      "cell_type": "code",
      "metadata": {
        "id": "TJfsOLAgM3Xu"
      },
      "source": [
        "from sklearn import datasets\r\n",
        "import matplotlib.pyplot as plt\r\n",
        "from sklearn.cluster import KMeans\r\n",
        "import numpy as np\r\n",
        "\r\n",
        "iris = datasets.load_iris()\r\n",
        "X = iris.data"
      ],
      "execution_count": 1,
      "outputs": []
    },
    {
      "cell_type": "code",
      "metadata": {
        "id": "6w0FucS5R2OY"
      },
      "source": [
        "def inertia(X, centroids, labels):\r\n",
        "  n = X.shape[0]\r\n",
        "  inr = 0\r\n",
        "  for i in range(n):\r\n",
        "    xc = X[i]-centroids[labels[i]]\r\n",
        "    inr += np.dot(xc,xc)\r\n",
        "  return inr"
      ],
      "execution_count": 43,
      "outputs": []
    },
    {
      "cell_type": "code",
      "metadata": {
        "id": "tOXSBcEgO-a4"
      },
      "source": [
        "iner = np.zeros(10)\r\n",
        "for k in range (1,11):\r\n",
        "  km = KMeans(\r\n",
        "      n_clusters=k, init='k-means++',\r\n",
        "      random_state=0\r\n",
        "  )\r\n",
        "  model = km.fit(X)\r\n",
        "  iner[k-1] = inertia(X,model.cluster_centers_, model.labels_)"
      ],
      "execution_count": 44,
      "outputs": []
    },
    {
      "cell_type": "code",
      "metadata": {
        "colab": {
          "base_uri": "https://localhost:8080/",
          "height": 283
        },
        "id": "IYD4dH0jWSY0",
        "outputId": "f81e9cca-fe0c-45d8-fb63-7d88b6853f32"
      },
      "source": [
        "plt.plot(np.arange(1,11),iner)  "
      ],
      "execution_count": 49,
      "outputs": [
        {
          "output_type": "execute_result",
          "data": {
            "text/plain": [
              "[<matplotlib.lines.Line2D at 0x7f75240e57f0>]"
            ]
          },
          "metadata": {
            "tags": []
          },
          "execution_count": 49
        },
        {
          "output_type": "display_data",
          "data": {
            "image/png": "[encoded data removed]",
            "text/plain": [
              "<Figure size 432x288 with 1 Axes>"
            ]
          },
          "metadata": {
            "tags": [],
            "needs_background": "light"
          }
        }
      ]
    },
    {
      "cell_type": "markdown",
      "metadata": {
        "id": "H_XyHqoGeiLJ"
      },
      "source": [
        "The elbow seems to be at 2 or 3"
      ]
    },
    {
      "cell_type": "markdown",
      "metadata": {
        "id": "GwU5zHv6ehCJ"
      },
      "source": [
        ""
      ]
    }
  ]
}